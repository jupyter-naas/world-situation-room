{
 "cells": [
  {
   "cell_type": "markdown",
   "id": "fef8d047-1347-402a-8d7f-fd65793ffc76",
   "metadata": {},
   "source": [
    "<img width=\"10%\" alt=\"Naas\" src=\"https://landen.imgix.net/jtci2pxwjczr/assets/5ice39g4.png?w=160\"/>"
   ]
  },
  {
   "cell_type": "markdown",
   "id": "633951dc-ca87-4032-ad2d-b76a909861bf",
   "metadata": {},
   "source": [
    "# Common function shared"
   ]
  },
  {
   "cell_type": "markdown",
   "id": "0d6d7230-e80c-487d-8850-85ed0823916e",
   "metadata": {},
   "source": [
    "**Tags:** #automation"
   ]
  },
  {
   "cell_type": "markdown",
   "id": "4c670ef8-c9f7-4a84-a266-4341c6b63546",
   "metadata": {},
   "source": [
    "**Author:** [Florent Ravenel](https://www.linkedin.com/in/ACoAABCNSioBW3YZHc2lBHVG0E_TXYWitQkmwog/)"
   ]
  },
  {
   "cell_type": "markdown",
   "id": "524d5465-bce2-42f3-8d18-6f821dae07a5",
   "metadata": {},
   "source": [
    "## Input"
   ]
  },
  {
   "cell_type": "code",
   "execution_count": 20,
   "id": "1a971e6b-d4d4-4266-8ce7-4113d2cdfd8c",
   "metadata": {
    "execution": {
     "iopub.execute_input": "2022-03-11T16:24:05.097797Z",
     "iopub.status.busy": "2022-03-11T16:24:05.097572Z",
     "iopub.status.idle": "2022-03-11T16:24:05.100294Z",
     "shell.execute_reply": "2022-03-11T16:24:05.099663Z",
     "shell.execute_reply.started": "2022-03-11T16:24:05.097772Z"
    },
    "tags": []
   },
   "outputs": [],
   "source": [
    "# import naas\n",
    "# naas.dependency.add()"
   ]
  },
  {
   "cell_type": "markdown",
   "id": "71d3ac41-a2af-4540-b6f4-c2a5be24714d",
   "metadata": {},
   "source": [
    "### Import libraries"
   ]
  },
  {
   "cell_type": "code",
   "execution_count": null,
   "id": "48a0ba26-31f8-4097-bf19-852a39cfdf9f",
   "metadata": {
    "tags": []
   },
   "outputs": [],
   "source": [
    "import naas\n",
    "from naas_drivers import notion\n",
    "from naas_drivers.tools.notion import Link, BlockEmbed\n",
    "from datetime import datetime\n",
    "import pytz\n",
    "from os import path, environ\n",
    "import json"
   ]
  },
  {
   "cell_type": "markdown",
   "id": "f44e10e3-12c2-43a5-ac37-000109452266",
   "metadata": {
    "execution": {
     "iopub.execute_input": "2022-02-05T16:30:04.247951Z",
     "iopub.status.busy": "2022-02-05T16:30:04.247695Z",
     "iopub.status.idle": "2022-02-05T16:30:04.250751Z",
     "shell.execute_reply": "2022-02-05T16:30:04.250118Z",
     "shell.execute_reply.started": "2022-02-05T16:30:04.247927Z"
    },
    "tags": []
   },
   "source": [
    "### Variables"
   ]
  },
  {
   "cell_type": "code",
   "execution_count": null,
   "id": "bb22c349-e14c-4d00-bf9c-452c2f5b652b",
   "metadata": {
    "tags": []
   },
   "outputs": [],
   "source": [
    "# Folders\n",
    "INPUT = path.join(\"..\", \"input\")\n",
    "OUTPUT = path.join(\"..\", \"output\")\n",
    "OUTPUT_PROD = path.join(\"..\", \"..\", \"⚡ → Production\", \"world-situation-room\", \"output\")\n",
    "\n",
    "# Dependencies\n",
    "CHART_CSS_PATH = path.join(INPUT, \"chart.css\") # Chart css\n",
    "WHI_IMAGE_PATH = path.join(INPUT, \"whi_layout.png\") # WHI layout\n",
    "FONT_PATH = path.join(INPUT, \"ArchivoBlack-Regular.ttf\") # WHI layout\n",
    "\n",
    "# Notion - \"Report\" database url\n",
    "NOTION_REPORT_DB = naas.secret.get(\"NOTION_REPORT_DB\")\n",
    "NOTION_TOKEN = naas.secret.get(\"NOTION_TOKEN\")"
   ]
  },
  {
   "cell_type": "markdown",
   "id": "ea6ff4cf-cea6-420e-b190-5979156b5fed",
   "metadata": {},
   "source": [
    "## Model"
   ]
  },
  {
   "cell_type": "markdown",
   "id": "401beada-87e6-4b7c-acda-b7b22427ce71",
   "metadata": {
    "tags": []
   },
   "source": [
    "### Send dependencies to production"
   ]
  },
  {
   "cell_type": "code",
   "execution_count": 19,
   "id": "7ba3c7d4-732b-4f12-9cd0-333c355ab7fb",
   "metadata": {
    "execution": {
     "iopub.execute_input": "2022-03-11T16:23:57.958116Z",
     "iopub.status.busy": "2022-03-11T16:23:57.957888Z",
     "iopub.status.idle": "2022-03-11T16:23:57.960986Z",
     "shell.execute_reply": "2022-03-11T16:23:57.960358Z",
     "shell.execute_reply.started": "2022-03-11T16:23:57.958090Z"
    },
    "tags": []
   },
   "outputs": [],
   "source": [
    "# naas.dependency.add(CHART_CSS_PATH)\n",
    "# naas.dependency.add(WHI_IMAGE_PATH)\n",
    "# naas.dependency.add(FONT_PATH)"
   ]
  },
  {
   "cell_type": "markdown",
   "id": "81fa9a81-10cf-4052-8094-23662b82f605",
   "metadata": {},
   "source": [
    "### Get output path"
   ]
  },
  {
   "cell_type": "code",
   "execution_count": null,
   "id": "573ed618-529c-4ae9-8d45-a7beb85436c2",
   "metadata": {},
   "outputs": [],
   "source": [
    "def get_output_path(filename):\n",
    "    if not naas.is_production():\n",
    "        output_path = path.join(OUTPUT_PROD, filename)\n",
    "    else:\n",
    "        output_path = path.join(OUTPUT, filename)\n",
    "    return output_path"
   ]
  },
  {
   "cell_type": "markdown",
   "id": "802b9829-4aed-4403-9449-a535d9f023ea",
   "metadata": {},
   "source": [
    "### Update chart css"
   ]
  },
  {
   "cell_type": "code",
   "execution_count": null,
   "id": "a9b5b1b1-d792-429f-b3be-ade52ff02209",
   "metadata": {
    "tags": []
   },
   "outputs": [],
   "source": [
    "# Fonction to add CSS\n",
    "def updateChartCss(filename, css_filename=CHART_CSS_PATH):\n",
    "    map = None\n",
    "    css = None\n",
    "    with open(filename) as f:\n",
    "        map = f.read()\n",
    "\n",
    "    with open(css_filename) as f:\n",
    "        css = f.read()\n",
    "    if (map.find('id=\"naas_css\"') != -1):\n",
    "        print(\"To do\")\n",
    "    else:\n",
    "        result = map.replace(\"<body>\",\n",
    "                             f'<body><style id=\"naas_css\">{css}</style>')\n",
    "        with open(filename, \"w\") as f:\n",
    "            f.write(result)\n",
    "            f.close()"
   ]
  },
  {
   "cell_type": "markdown",
   "id": "d856dbf2-37a4-4e52-804a-81c3728b99a7",
   "metadata": {},
   "source": [
    "## Output"
   ]
  },
  {
   "cell_type": "markdown",
   "id": "36f51fa3-52a3-4cb7-938b-4b568a0f7f38",
   "metadata": {},
   "source": [
    "### Save and share with naas"
   ]
  },
  {
   "cell_type": "code",
   "execution_count": 3,
   "id": "3629d853-b382-4932-ad18-12b65572cae0",
   "metadata": {
    "execution": {
     "iopub.execute_input": "2022-03-14T10:39:51.431669Z",
     "iopub.status.busy": "2022-03-14T10:39:51.431367Z",
     "iopub.status.idle": "2022-03-14T10:39:51.438947Z",
     "shell.execute_reply": "2022-03-14T10:39:51.437958Z",
     "shell.execute_reply.started": "2022-03-14T10:39:51.431646Z"
    },
    "tags": []
   },
   "outputs": [],
   "source": [
    "def save_output(output_type, name_output, output_obj, naas_asset=True):\n",
    "    # Outputs\n",
    "    csv_output = path.join(OUTPUT, f\"{name_output}.csv\")\n",
    "    html_output = path.join(OUTPUT, f\"{name_output}.html\")\n",
    "    image_output = path.join(OUTPUT, f\"{name_output}.png\")\n",
    "\n",
    "    if output_type == \"dataframe-csv\":\n",
    "        output_obj[\"DATE_EXTRACT\"] = datetime.now(pytz.timezone(\"Europe/Paris\")).strftime(\"%Y-%m-%d %H:%M:%S%z\")\n",
    "        output_obj.to_csv(csv_output, index=False)\n",
    "        print(\"💾 Dataframe successfully saved in csv\", csv_output)\n",
    "        if naas_asset:\n",
    "            return naas.asset.add(csv_output)\n",
    "    elif output_type == \"chart-html\":\n",
    "        output_obj.write_html(html_output)\n",
    "        updateChartCss(html_output, css_filename=CHART_CSS_PATH)\n",
    "        print(\"💾 Graph successfully saved in html\", html_output)\n",
    "        if naas_asset:\n",
    "            return naas.asset.add(html_output, params={\"inline\": True})\n",
    "    elif output_type == \"chart-png\":\n",
    "        output_obj.write_image(image_output)\n",
    "        print(\"💾 Graph successfully saved in image\", image_output)\n",
    "        if naas_asset:\n",
    "            return naas.asset.add(image_output, params={\"inline\": True})\n",
    "    elif output_type == \"image-png\":\n",
    "        img.save(image_output)\n",
    "        print(\"💾 Image successfully saved in png\", image_output)\n",
    "        if naas_asset:\n",
    "            return naas.asset.add(image_output, params={\"inline\": True})"
   ]
  },
  {
   "cell_type": "markdown",
   "id": "46b6f6ab-a6ba-4004-9924-3800e5ea6321",
   "metadata": {},
   "source": [
    "### Save in \"Report\" Notion DB"
   ]
  },
  {
   "cell_type": "code",
   "execution_count": null,
   "id": "8e4ecf49-c81d-4024-8033-06b1f8c666d9",
   "metadata": {},
   "outputs": [],
   "source": [
    "def update_dynamic_properties(page, status, sentiment_icon):\n",
    "    # Page properties : static\n",
    "    page.select(\"Status\", status)\n",
    "    page.select(\"Sentiment\", sentiment_icon)\n",
    "    page.date(\"Data updated at\", datetime.now(pytz.timezone(\"Europe/Paris\")).strftime(\"%Y-%m-%d %H:%M:%S%z\"))\n",
    "    return page"
   ]
  },
  {
   "cell_type": "code",
   "execution_count": null,
   "id": "34b5c4bf-f45d-4452-887c-02f16f86ec88",
   "metadata": {},
   "outputs": [],
   "source": [
    "def update_report_status(uid, status=\"🟠 WIP\", name_output=None, image_link=None, html_link=None, csv_link=None, sentiment=None):\n",
    "    sentiment_icon = \"⚫\"\n",
    "    if sentiment is not None:\n",
    "        # Get trend\n",
    "        if sentiment == 0:\n",
    "            sentiment_icon = \"🟠\"\n",
    "        elif sentiment > 0:\n",
    "            sentiment_icon = \"🟢\"\n",
    "        elif sentiment < 0:\n",
    "            sentiment_icon = \"🔴\"\n",
    "    \n",
    "    # Get pages from notion database\n",
    "    pages = notion.connect(NOTION_TOKEN).database.query(NOTION_REPORT_DB, query={})\n",
    "    \n",
    "    # Create or update page\n",
    "    page_new = True\n",
    "    for page in pages:\n",
    "        page_temp = page.df()\n",
    "        page_id = page_temp.loc[page_temp.Name == \"ID\", \"Value\"].values\n",
    "        if page_id == uid:\n",
    "            page_new = False\n",
    "            break\n",
    "    try:\n",
    "        if page_new:\n",
    "            database_id = NOTION_REPORT_DB.split(\"/\")[-1].split(\"?v=\")[0]\n",
    "            page = notion.connect(NOTION_TOKEN).Page.new(database_id=database_id).create()\n",
    "            page.title(\"Name\", name_output)\n",
    "            page.rich_text(\"ID\", uid)\n",
    "            if image_link:\n",
    "                page.image(image_link)\n",
    "            if html_link:\n",
    "                res = page.paragraph(\"Open dynamic graph\")\n",
    "                res.paragraph.text[0].href = html_link\n",
    "                res.paragraph.text[0].text.link = Link(html_link)\n",
    "            if csv_link:\n",
    "                res = page.paragraph(\"Download CSV\")\n",
    "                res.paragraph.text[0].href = csv_link\n",
    "                res.paragraph.text[0].text.link = Link(csv_link)\n",
    "            update_dynamic_properties(page, status, sentiment_icon)\n",
    "        else:\n",
    "            # Page properties : static\n",
    "            update_dynamic_properties(page, status, sentiment_icon)\n",
    "\n",
    "        # Create page in Notion\n",
    "        page.update()\n",
    "        print(f\"✅ Page '{uid}' updated in Notion.\", status)\n",
    "    except Exception as e:\n",
    "        print(f\"❌ Error updating {uid}\")\n",
    "        return e"
   ]
  },
  {
   "cell_type": "markdown",
   "id": "2b4243c1-abc3-49c5-9b8b-18244dd8d1a5",
   "metadata": {},
   "source": [
    "### Generate workflow"
   ]
  },
  {
   "cell_type": "code",
   "execution_count": null,
   "id": "7dbd189f-691a-4de3-8116-98da75ac3606",
   "metadata": {},
   "outputs": [],
   "source": [
    "def generate_workflow(notebook_path):\n",
    "    # Notebook output\n",
    "    notebook_output = notebook_path.replace(\".ipynb\", \"_prod.ipynb\")\n",
    "    \n",
    "    # Open notebook as json\n",
    "    with open(notebook_path) as f:\n",
    "        nb = json.load(f)\n",
    "    \n",
    "    # Json output\n",
    "    new_cells = []\n",
    "    check_model = False\n",
    "    workflow = \"\"\n",
    "    cell_markdown_wf = {\n",
    "        'cell_type': 'markdown',\n",
    "        'id': 'naas-markdown-wf',\n",
    "        'metadata': {'papermill': {}, 'tags': [\"naas\"]},\n",
    "        'source': '### Execute workflow'\n",
    "    }\n",
    "    cell_code_wf = {\n",
    "        'cell_type': 'code',\n",
    "        'id': 'naas-code-wf',\n",
    "        'metadata': {'papermill': {}, 'tags': [\"naas\"]},\n",
    "        'source': []\n",
    "    }\n",
    "      \n",
    "    # Get cells\n",
    "    cells = nb.get(\"cells\")\n",
    "    # Check each cells\n",
    "    for cell in cells:\n",
    "        new_sources = []\n",
    "        cell_type = cell.get('cell_type')\n",
    "        sources = cell.get('source')\n",
    "        if not check_model:\n",
    "            for index, source in enumerate(sources):\n",
    "                if \"# naas.scheduler.add\" in source:\n",
    "                    source = source.replace(\"# \", \"\").replace(\")\", f\", path='{notebook_output}')\")\n",
    "                    cell[\"source\"] = [source]\n",
    "                if cell_type == \"markdown\" and source.startswith(\"## Model\"):\n",
    "                    check_model = True\n",
    "        if check_model:\n",
    "            if cell_type == \"markdown\":\n",
    "                if len(sources) > 0:\n",
    "                    new_workflow = f'    {sources[0]}\\n'\n",
    "                    workflow = f'{workflow}{new_workflow}'\n",
    "            elif cell_type == \"code\":\n",
    "                for index, source in enumerate(sources):\n",
    "                    new_source = source\n",
    "                    if not source.startswith(\" \") and not source.startswith(\"def\") and not source.startswith(\"\\n\"):\n",
    "                        new_source = f'# {source}'\n",
    "                        if \"(\" in source and \")\" in source:\n",
    "                            new_code = f'    {source}\\n'\n",
    "                            if \"update_report_status\" in new_code:\n",
    "                                new_code = new_code.replace(')', ', status=\"🟢 Live\")')\n",
    "                                new_code = f'{new_code}'\n",
    "                            workflow = f'{workflow}{new_code}'\n",
    "                    new_sources.append(new_source)\n",
    "                cell[\"source\"] = new_sources\n",
    "        # Create new cell\n",
    "        new_cells.append(cell)\n",
    "                    \n",
    "    # Update source workflow\n",
    "    source_workflow = [\n",
    "        'try:\\n'\n",
    "        f'{workflow}'\n",
    "        'except Exception as e:\\n',\n",
    "        '    # Update status in Notion DB if error\\n',\n",
    "        '    update_report_status(uid, \"🔴 Error\")\\n',\n",
    "        '    raise(e)'\n",
    "    ]\n",
    "    \n",
    "    # Add workflow cells\n",
    "    new_cells.append(cell_markdown_wf)\n",
    "    cell_code_wf[\"source\"] = source_workflow\n",
    "    new_cells.append(cell_code_wf)\n",
    "    \n",
    "    # Save new notebook\n",
    "    nb_new = nb.copy()\n",
    "    nb_new[\"cells\"] = new_cells\n",
    "    with open(notebook_output, 'w') as f:\n",
    "        json.dump(nb_new, f)\n",
    "    print(f\"💾 {notebook_output} saved in Naas.\")\n",
    "    return notebook_output"
   ]
  },
  {
   "cell_type": "code",
   "execution_count": null,
   "id": "28d63757-0c32-466d-b0e7-e70d3450e06b",
   "metadata": {},
   "outputs": [],
   "source": [
    "print(\"👌 Notebook common.ipynb loaded\")"
   ]
  }
 ],
 "metadata": {
  "kernelspec": {
   "display_name": "Python 3",
   "language": "python",
   "name": "python3"
  },
  "language_info": {
   "codemirror_mode": {
    "name": "ipython",
    "version": 3
   },
   "file_extension": ".py",
   "mimetype": "text/x-python",
   "name": "python",
   "nbconvert_exporter": "python",
   "pygments_lexer": "ipython3",
   "version": "3.9.6"
  }
 },
 "nbformat": 4,
 "nbformat_minor": 5
}
